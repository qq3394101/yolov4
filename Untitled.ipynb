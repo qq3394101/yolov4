{
 "cells": [
  {
   "cell_type": "code",
   "execution_count": 18,
   "id": "0b88042b",
   "metadata": {},
   "outputs": [],
   "source": [
    "import torch\n",
    "import numpy as np"
   ]
  },
  {
   "cell_type": "code",
   "execution_count": 19,
   "id": "19c09fc5",
   "metadata": {},
   "outputs": [],
   "source": [
    "def jaccard(_box_a, _box_b):\n",
    "    # 计算真实框的左上角和右下角\n",
    "    b1_x1, b1_x2 = _box_a[:, 0] - _box_a[:, 2] / 2, _box_a[:, 0] + _box_a[:, 2] / 2\n",
    "    b1_y1, b1_y2 = _box_a[:, 1] - _box_a[:, 3] / 2, _box_a[:, 1] + _box_a[:, 3] / 2\n",
    "    # 计算先验框的左上角和右下角\n",
    "    b2_x1, b2_x2 = _box_b[:, 0] - _box_b[:, 2] / 2, _box_b[:, 0] + _box_b[:, 2] / 2\n",
    "    b2_y1, b2_y2 = _box_b[:, 1] - _box_b[:, 3] / 2, _box_b[:, 1] + _box_b[:, 3] / 2\n",
    "    box_a = torch.zeros_like(_box_a)\n",
    "    box_b = torch.zeros_like(_box_b)\n",
    "    box_a[:, 0], box_a[:, 1], box_a[:, 2], box_a[:, 3] = b1_x1, b1_y1, b1_x2, b1_y2\n",
    "    box_b[:, 0], box_b[:, 1], box_b[:, 2], box_b[:, 3] = b2_x1, b2_y1, b2_x2, b2_y2\n",
    "    A = box_a.size(0)\n",
    "    B = box_b.size(0)\n",
    "    max_xy = torch.min(box_a[:, 2:].unsqueeze(1).expand(A, B, 2),\n",
    "                       box_b[:, 2:].unsqueeze(0).expand(A, B, 2))\n",
    "    min_xy = torch.max(box_a[:, :2].unsqueeze(1).expand(A, B, 2),\n",
    "                       box_b[:, :2].unsqueeze(0).expand(A, B, 2))\n",
    "    inter = torch.clamp((max_xy - min_xy), min=0)\n",
    "\n",
    "    inter = inter[:, :, 0] * inter[:, :, 1]\n",
    "    # 计算先验框和真实框各自的面积\n",
    "    area_a = ((box_a[:, 2]-box_a[:, 0]) *\n",
    "              (box_a[:, 3]-box_a[:, 1])).unsqueeze(1).expand_as(inter)  # [A,B]\n",
    "    area_b = ((box_b[:, 2]-box_b[:, 0]) *\n",
    "              (box_b[:, 3]-box_b[:, 1])).unsqueeze(0).expand_as(inter)  # [A,B]\n",
    "    # 求IOU\n",
    "    union = area_a + area_b - inter\n",
    "    return inter / union  # [A,B]"
   ]
  },
  {
   "cell_type": "code",
   "execution_count": 20,
   "id": "58800400",
   "metadata": {},
   "outputs": [],
   "source": [
    "anchor_shapes = torch.tensor([[ 0.0000,  0.0000,  3.6250,  2.8125],\n",
    "        [ 0.0000,  0.0000,  4.8750,  6.1875],\n",
    "        [ 0.0000,  0.0000, 11.6562, 10.1875],\n",
    "        [ 0.0000,  0.0000,  0.9375,  1.9062],\n",
    "        [ 0.0000,  0.0000,  1.9375,  1.4062],\n",
    "        [ 0.0000,  0.0000,  1.8438,  3.7188],\n",
    "        [ 0.0000,  0.0000,  0.3125,  0.4062],\n",
    "        [ 0.0000,  0.0000,  0.5000,  0.9375],\n",
    "        [ 0.0000,  0.0000,  1.0312,  0.7188]])\n",
    "gt_box = torch.tensor([[0.0000, 0.0000, 2.4375, 2.2500],\n",
    "        [0.0000, 0.0000, 2.8438, 2.7812],\n",
    "        [0.0000, 0.0000, 4.0312, 4.2188],\n",
    "        [0.0000, 0.0000, 1.5937, 2.0938],\n",
    "        [0.0000, 0.0000, 1.2813, 1.6250],\n",
    "        [0.0000, 0.0000, 1.3438, 1.7188]])"
   ]
  },
  {
   "cell_type": "code",
   "execution_count": 21,
   "id": "434dc04b",
   "metadata": {},
   "outputs": [],
   "source": [
    "anch_ious = jaccard(gt_box, anchor_shapes)"
   ]
  },
  {
   "cell_type": "code",
   "execution_count": 27,
   "id": "db4bc957",
   "metadata": {},
   "outputs": [
    {
     "name": "stdout",
     "output_type": "stream",
     "text": [
      "torch.Size([9, 4])\n",
      "torch.Size([6, 4])\n",
      "torch.Size([6, 9])\n"
     ]
    },
    {
     "data": {
      "text/plain": [
       "tensor([[0.5379, 0.1818, 0.0462, 0.3258, 0.4968, 0.5064, 0.0231, 0.0855, 0.1352],\n",
       "        [0.7758, 0.2622, 0.0666, 0.2259, 0.3445, 0.5321, 0.0160, 0.0593, 0.0937],\n",
       "        [0.5995, 0.5638, 0.1432, 0.1051, 0.1602, 0.4032, 0.0075, 0.0276, 0.0436],\n",
       "        [0.3273, 0.1106, 0.0281, 0.5355, 0.5866, 0.4867, 0.0380, 0.1405, 0.2221],\n",
       "        [0.2042, 0.0690, 0.0175, 0.6494, 0.5996, 0.3037, 0.0610, 0.2251, 0.3560],\n",
       "        [0.2265, 0.0766, 0.0195, 0.6483, 0.6009, 0.3369, 0.0550, 0.2029, 0.3209]])"
      ]
     },
     "execution_count": 27,
     "metadata": {},
     "output_type": "execute_result"
    }
   ],
   "source": [
    "print(anchor_shapes.shape)\n",
    "print(gt_box.shape)\n",
    "print(anch_ious.shape)\n",
    "anch_ious"
   ]
  },
  {
   "cell_type": "code",
   "execution_count": 28,
   "id": "8f49dcf4",
   "metadata": {},
   "outputs": [
    {
     "data": {
      "text/plain": [
       "tensor([0, 0, 0, 4, 3, 3])"
      ]
     },
     "execution_count": 28,
     "metadata": {},
     "output_type": "execute_result"
    }
   ],
   "source": [
    "best_ns = torch.argmax(anch_ious,dim=-1)\n",
    "best_ns"
   ]
  },
  {
   "cell_type": "code",
   "execution_count": null,
   "id": "1ce908e6",
   "metadata": {},
   "outputs": [],
   "source": []
  }
 ],
 "metadata": {
  "kernelspec": {
   "display_name": "yolov5",
   "language": "python",
   "name": "yolov5"
  },
  "language_info": {
   "codemirror_mode": {
    "name": "ipython",
    "version": 3
   },
   "file_extension": ".py",
   "mimetype": "text/x-python",
   "name": "python",
   "nbconvert_exporter": "python",
   "pygments_lexer": "ipython3",
   "version": "3.7.10"
  }
 },
 "nbformat": 4,
 "nbformat_minor": 5
}
